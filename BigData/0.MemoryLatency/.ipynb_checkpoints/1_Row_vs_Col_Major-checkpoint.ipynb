{
 "cells": [
  {
   "cell_type": "markdown",
   "metadata": {},
   "source": [
    "# Memory locality, Rows vs. Columns"
   ]
  },
  {
   "cell_type": "markdown",
   "metadata": {
    "slideshow": {
     "slide_type": "slide"
    }
   },
   "source": [
    "## The effect of row vs column major layout\n",
    "The way you traverse a 2D array effects speed."
   ]
  },
  {
   "cell_type": "markdown",
   "metadata": {
    "slideshow": {
     "slide_type": "fragment"
    }
   },
   "source": [
    "* [numpy arrays](https://docs.scipy.org/doc/numpy/reference/generated/numpy.array.html#numpy-array) are, by default, organized in a row-major order. "
   ]
  },
  {
   "cell_type": "markdown",
   "metadata": {
    "slideshow": {
     "slide_type": "subslide"
    }
   },
   "source": [
    "```python\n",
    "a=array([range(1,31)]).reshape([3,10])\n",
    "```\n",
    "<img alt=\"\" src=\"Figures/Row-major-layout.png\" style=\"width:600px\" />"
   ]
  },
  {
   "cell_type": "markdown",
   "metadata": {
    "slideshow": {
     "slide_type": "fragment"
    }
   },
   "source": [
    "* `a[i,j]` and `a[i,j+1]` are placed in consecutive places in memory."
   ]
  },
  {
   "cell_type": "markdown",
   "metadata": {
    "slideshow": {
     "slide_type": "fragment"
    }
   },
   "source": [
    "* `a[i,j]` and `a[i+1,j]` are 10 memory locations apart."
   ]
  },
  {
   "cell_type": "markdown",
   "metadata": {
    "slideshow": {
     "slide_type": "subslide"
    }
   },
   "source": [
    "* This implies that scanning the array row by row is more local than scanning column by column."
   ]
  },
  {
   "cell_type": "markdown",
   "metadata": {
    "slideshow": {
     "slide_type": "fragment"
    }
   },
   "source": [
    "* locality implies speed."
   ]
  },
  {
   "cell_type": "code",
   "execution_count": 3,
   "metadata": {
    "ExecuteTime": {
     "end_time": "2018-04-08T21:58:25.982086Z",
     "start_time": "2018-04-08T21:58:25.604934Z"
    },
    "slideshow": {
     "slide_type": "skip"
    }
   },
   "outputs": [
    {
     "name": "stdout",
     "output_type": "stream",
     "text": [
      "Populating the interactive namespace from numpy and matplotlib\n"
     ]
    }
   ],
   "source": [
    "%pylab inline\n",
    "from time import time\n",
    "\n",
    "# create an n by n array\n",
    "n=1000\n",
    "a=ones([n,n])"
   ]
  },
  {
   "cell_type": "code",
   "execution_count": 4,
   "metadata": {
    "ExecuteTime": {
     "end_time": "2018-04-08T21:58:26.000530Z",
     "start_time": "2018-04-08T21:58:25.984264Z"
    },
    "slideshow": {
     "slide_type": "slide"
    }
   },
   "outputs": [
    {
     "name": "stdout",
     "output_type": "stream",
     "text": [
      "CPU times: user 16.5 ms, sys: 1.64 ms, total: 18.1 ms\n",
      "Wall time: 17 ms\n"
     ]
    }
   ],
   "source": [
    "%%time\n",
    "# Scan column by column\n",
    "s=0;\n",
    "for i in range(n): s+=sum(a[:,i])"
   ]
  },
  {
   "cell_type": "code",
   "execution_count": 5,
   "metadata": {
    "ExecuteTime": {
     "end_time": "2018-04-08T21:58:26.014423Z",
     "start_time": "2018-04-08T21:58:26.002920Z"
    },
    "scrolled": true,
    "slideshow": {
     "slide_type": "fragment"
    }
   },
   "outputs": [
    {
     "name": "stdout",
     "output_type": "stream",
     "text": [
      "CPU times: user 10.9 ms, sys: 2.31 ms, total: 13.2 ms\n",
      "Wall time: 11.6 ms\n"
     ]
    }
   ],
   "source": [
    "%%time\n",
    "## Scan row by row\n",
    "s=0;\n",
    "for i in range(n): s+=sum(a[i,:])"
   ]
  },
  {
   "cell_type": "markdown",
   "metadata": {
    "slideshow": {
     "slide_type": "slide"
    }
   },
   "source": [
    "## Some experiments with row vs column scanning\n",
    "We want to see how the run time of these two code snippets varies as `n`, the size of the array, is changed."
   ]
  },
  {
   "cell_type": "code",
   "execution_count": 6,
   "metadata": {
    "ExecuteTime": {
     "end_time": "2018-04-08T21:58:26.034830Z",
     "start_time": "2018-04-08T21:58:26.016206Z"
    },
    "code_folding": [
     6
    ],
    "scrolled": true,
    "slideshow": {
     "slide_type": "subslide"
    }
   },
   "outputs": [],
   "source": [
    "def sample_run_times(T,k=10):\n",
    "    \"\"\" compare the time to sum an array row by row vs column by column\n",
    "        T: the sizes of the matrix, [10**e for e in T] \n",
    "        k: the number of repetitions of each experiment\n",
    "    \"\"\"\n",
    "    all_times=[]\n",
    "    for e in T:\n",
    "        n=int(10**e)\n",
    "        #print('\\r',n)\n",
    "        a=np.ones([n,n])\n",
    "        times=[]\n",
    "\n",
    "        for i in range(k):    \n",
    "            t0=time()\n",
    "            s=0;\n",
    "            for i in range(n):\n",
    "                s+=sum(a[:,i])\n",
    "            t1=time()\n",
    "            s=0;\n",
    "            for i in range(n):\n",
    "                s+=sum(a[i,:])\n",
    "            t2=time()\n",
    "            times.append({'row minor':t1-t0,'row major':t2-t1})\n",
    "        all_times.append({'n':n,'times':times})\n",
    "    return all_times\n"
   ]
  },
  {
   "cell_type": "code",
   "execution_count": 7,
   "metadata": {
    "ExecuteTime": {
     "end_time": "2018-04-08T21:58:26.044080Z",
     "start_time": "2018-04-08T21:58:26.036473Z"
    },
    "slideshow": {
     "slide_type": "skip"
    }
   },
   "outputs": [
    {
     "data": {
      "text/plain": [
       "[{'n': 10,\n",
       "  'times': [{'row minor': 6.723403930664062e-05,\n",
       "    'row major': 3.266334533691406e-05}]},\n",
       " {'n': 100,\n",
       "  'times': [{'row minor': 0.0006561279296875,\n",
       "    'row major': 0.0005369186401367188}]}]"
      ]
     },
     "execution_count": 7,
     "metadata": {},
     "output_type": "execute_result"
    }
   ],
   "source": [
    "#example run\n",
    "sample_run_times([1,2],k=1)"
   ]
  },
  {
   "cell_type": "markdown",
   "metadata": {},
   "source": [
    "### Plot the ratio between run times as function of n\n",
    "Here we have small steps between consecutive values of `n` and only one measurement for each (`k=1`)"
   ]
  },
  {
   "cell_type": "code",
   "execution_count": 8,
   "metadata": {
    "ExecuteTime": {
     "end_time": "2018-04-08T21:58:31.037669Z",
     "start_time": "2018-04-08T21:58:26.047004Z"
    },
    "hide_input": true,
    "slideshow": {
     "slide_type": "slide"
    }
   },
   "outputs": [
    {
     "data": {
      "image/png": "[encoded data removed]",
      "text/plain": [
       "<Figure size 720x360 with 1 Axes>"
      ]
     },
     "metadata": {},
     "output_type": "display_data"
    }
   ],
   "source": [
    "all_times=sample_run_times(np.arange(1.5,3.01,0.001),k=1)\n",
    "\n",
    "n_list=[a['n'] for a in all_times]\n",
    "ratios=[a['times'][0]['row minor']/a['times'][0]['row major'] for a in all_times]\n",
    "\n",
    "figure(figsize=(10,5))\n",
    "plot(n_list,ratios)\n",
    "grid()\n",
    "xlabel('size of matrix')\n",
    "ylabel('ratio or running times')\n",
    "title('time ratio as a function of size of array');"
   ]
  },
  {
   "cell_type": "markdown",
   "metadata": {
    "slideshow": {
     "slide_type": "slide"
    }
   },
   "source": [
    "## Conclusions\n",
    "* Traversing a numpy array column by column takes more than row by row.\n",
    "* The effect increasese proportionally to the number of elements in the array (square of the number of rows or columns).\n",
    "* Run time has large fluctuations."
   ]
  },
  {
   "cell_type": "markdown",
   "metadata": {
    "slideshow": {
     "slide_type": "fragment"
    }
   },
   "source": [
    "* See you next time."
   ]
  },
  {
   "cell_type": "markdown",
   "metadata": {
    "slideshow": {
     "slide_type": "skip"
    }
   },
   "source": [
    "### Next, we want to quantify the random fluctuations\n",
    "and see what is their source"
   ]
  },
  {
   "cell_type": "code",
   "execution_count": 7,
   "metadata": {
    "ExecuteTime": {
     "end_time": "2018-04-08T21:59:06.345476Z",
     "start_time": "2018-04-08T21:58:31.039431Z"
    },
    "slideshow": {
     "slide_type": "skip"
    }
   },
   "outputs": [],
   "source": [
    "k=100\n",
    "all_times=sample_run_times(np.arange(1,3.001,0.01),k=k)\n",
    "_n=[]\n",
    "_row_major_mean=[]\n",
    "_row_major_std=[]\n",
    "_row_major_std=[]\n",
    "_row_minor_mean=[]\n",
    "_row_minor_std=[]\n",
    "_row_minor_min=[]\n",
    "_row_minor_max=[]\n",
    "_row_major_min=[]\n",
    "_row_major_max=[]\n",
    "\n",
    "for times in all_times:\n",
    "    _n.append(times['n'])\n",
    "    row_major=[a['row major'] for a in times['times']]\n",
    "    row_minor=[a['row minor'] for a in times['times']]\n",
    "    _row_major_mean.append(np.mean(row_major))\n",
    "    _row_major_std.append(np.std(row_major))\n",
    "    _row_major_min.append(np.min(row_major))\n",
    "    _row_major_max.append(np.max(row_major))\n",
    "\n",
    "    _row_minor_mean.append(np.mean(row_minor))\n",
    "    _row_minor_std.append(np.std(row_minor))\n",
    "    _row_minor_min.append(np.min(row_minor))\n",
    "    _row_minor_max.append(np.max(row_minor))\n",
    "\n",
    "_row_major_mean=np.array(_row_major_mean)\n",
    "_row_major_std=np.array(_row_major_std)\n",
    "_row_minor_mean=np.array(_row_minor_mean)\n",
    "_row_minor_std=np.array(_row_minor_std)"
   ]
  },
  {
   "cell_type": "code",
   "execution_count": 8,
   "metadata": {
    "ExecuteTime": {
     "end_time": "2018-04-08T21:59:06.801486Z",
     "start_time": "2018-04-08T21:59:06.347790Z"
    },
    "hide_input": false,
    "slideshow": {
     "slide_type": "skip"
    }
   },
   "outputs": [
    {
     "ename": "NameError",
     "evalue": "name '_n' is not defined",
     "output_type": "error",
     "traceback": [
      "\u001b[0;31m---------------------------------------------------------------------------\u001b[0m",
      "\u001b[0;31mNameError\u001b[0m                                 Traceback (most recent call last)",
      "\u001b[0;32m<ipython-input-8-2b7ca6d28727>\u001b[0m in \u001b[0;36m<module>\u001b[0;34m()\u001b[0m\n\u001b[1;32m      1\u001b[0m \u001b[0mfigure\u001b[0m\u001b[0;34m(\u001b[0m\u001b[0mfigsize\u001b[0m\u001b[0;34m=\u001b[0m\u001b[0;34m(\u001b[0m\u001b[0;36m20\u001b[0m\u001b[0;34m,\u001b[0m\u001b[0;36m13\u001b[0m\u001b[0;34m)\u001b[0m\u001b[0;34m)\u001b[0m\u001b[0;34m\u001b[0m\u001b[0m\n\u001b[0;32m----> 2\u001b[0;31m \u001b[0mplot\u001b[0m\u001b[0;34m(\u001b[0m\u001b[0m_n\u001b[0m\u001b[0;34m,\u001b[0m\u001b[0m_row_major_mean\u001b[0m\u001b[0;34m,\u001b[0m\u001b[0;34m'o'\u001b[0m\u001b[0;34m,\u001b[0m\u001b[0mlabel\u001b[0m\u001b[0;34m=\u001b[0m\u001b[0;34m'row major mean'\u001b[0m\u001b[0;34m)\u001b[0m\u001b[0;34m\u001b[0m\u001b[0m\n\u001b[0m\u001b[1;32m      3\u001b[0m \u001b[0mplot\u001b[0m\u001b[0;34m(\u001b[0m\u001b[0m_n\u001b[0m\u001b[0;34m,\u001b[0m\u001b[0m_row_major_mean\u001b[0m\u001b[0;34m-\u001b[0m\u001b[0m_row_major_std\u001b[0m\u001b[0;34m,\u001b[0m\u001b[0;34m'x'\u001b[0m\u001b[0;34m,\u001b[0m\u001b[0mlabel\u001b[0m\u001b[0;34m=\u001b[0m\u001b[0;34m'row major mean-std'\u001b[0m\u001b[0;34m)\u001b[0m\u001b[0;34m\u001b[0m\u001b[0m\n\u001b[1;32m      4\u001b[0m \u001b[0mplot\u001b[0m\u001b[0;34m(\u001b[0m\u001b[0m_n\u001b[0m\u001b[0;34m,\u001b[0m\u001b[0m_row_major_mean\u001b[0m\u001b[0;34m+\u001b[0m\u001b[0m_row_major_std\u001b[0m\u001b[0;34m,\u001b[0m\u001b[0;34m'x'\u001b[0m\u001b[0;34m,\u001b[0m\u001b[0mlabel\u001b[0m\u001b[0;34m=\u001b[0m\u001b[0;34m'row major mean+std'\u001b[0m\u001b[0;34m)\u001b[0m\u001b[0;34m\u001b[0m\u001b[0m\n\u001b[1;32m      5\u001b[0m \u001b[0mplot\u001b[0m\u001b[0;34m(\u001b[0m\u001b[0m_n\u001b[0m\u001b[0;34m,\u001b[0m\u001b[0m_row_major_min\u001b[0m\u001b[0;34m,\u001b[0m\u001b[0mlabel\u001b[0m\u001b[0;34m=\u001b[0m\u001b[0;34m'row major min among %d'\u001b[0m\u001b[0;34m%\u001b[0m\u001b[0mk\u001b[0m\u001b[0;34m)\u001b[0m\u001b[0;34m\u001b[0m\u001b[0m\n",
      "\u001b[0;31mNameError\u001b[0m: name '_n' is not defined"
     ]
    },
    {
     "data": {
      "text/plain": [
       "<Figure size 1440x936 with 0 Axes>"
      ]
     },
     "metadata": {},
     "output_type": "display_data"
    }
   ],
   "source": [
    "figure(figsize=(20,13))\n",
    "plot(_n,_row_major_mean,'o',label='row major mean')\n",
    "plot(_n,_row_major_mean-_row_major_std,'x',label='row major mean-std')\n",
    "plot(_n,_row_major_mean+_row_major_std,'x',label='row major mean+std')\n",
    "plot(_n,_row_major_min,label='row major min among %d'%k)\n",
    "plot(_n,_row_major_max,label='row major max among %d'%k)\n",
    "plot(_n,_row_minor_mean,'o',label='row minor mean')\n",
    "plot(_n,_row_minor_mean-_row_minor_std,'x',label='row minor mean-std')\n",
    "plot(_n,_row_minor_mean+_row_minor_std,'x',label='row minor mean+std')\n",
    "plot(_n,_row_minor_min,label='row minor min among %d'%k)\n",
    "plot(_n,_row_minor_max,label='row minor max among %d'%k)\n",
    "xlabel('size of matrix')\n",
    "ylabel('running time')\n",
    "legend()\n",
    "grid()"
   ]
  },
  {
   "cell_type": "markdown",
   "metadata": {
    "slideshow": {
     "slide_type": "skip"
    }
   },
   "source": [
    "### Summary\n",
    "\n",
    "1. Scan by column is slower than scan by row and the difference increases with the size.\n",
    "2. scan by row increases linearly and has very little random fluctuations.\n",
    "3. Scan by column increases linearly with one constant until about `n=430` and then increases with a higher constant.\n",
    "4. Scan by column has large fluctatuations around the mean."
   ]
  }
 ],
 "metadata": {
  "anaconda-cloud": {},
  "celltoolbar": "Slideshow",
  "hide_input": false,
  "kernelspec": {
   "display_name": "Python 3",
   "language": "python",
   "name": "python3"
  },
  "language_info": {
   "codemirror_mode": {
    "name": "ipython",
    "version": 3
   },
   "file_extension": ".py",
   "mimetype": "text/x-python",
   "name": "python",
   "nbconvert_exporter": "python",
   "pygments_lexer": "ipython3",
   "version": "3.6.6"
  },
  "toc": {
   "base_numbering": 1,
   "nav_menu": {
    "height": "190px",
    "width": "252px"
   },
   "number_sections": true,
   "sideBar": true,
   "skip_h1_title": false,
   "title_cell": "Table of Contents",
   "title_sidebar": "Contents",
   "toc_cell": false,
   "toc_position": {},
   "toc_section_display": "block",
   "toc_window_display": false
  }
 },
 "nbformat": 4,
 "nbformat_minor": 1
}
