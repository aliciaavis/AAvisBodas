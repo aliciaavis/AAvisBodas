{
 "cells": [
  {
   "cell_type": "markdown",
   "metadata": {},
   "source": [
    "# Big Data Engineering\n",
    "## Exercise: Clustering Techniques on Student Survey Dataset\n",
    "### Grupo: Sebastian Vieites, Alicia Avis y Claudia Benito"
   ]
  },
  {
   "cell_type": "code",
   "execution_count": 1,
   "metadata": {},
   "outputs": [
    {
     "name": "stdout",
     "output_type": "stream",
     "text": [
      "<SparkContext master=local[4] appName=pyspark-shell>\n"
     ]
    }
   ],
   "source": [
    "import findspark\n",
    "findspark.init()\n",
    "from pyspark import SparkContext \n",
    "sc = SparkContext(master=\"local[4]\")\n",
    "print(sc)"
   ]
  },
  {
   "cell_type": "code",
   "execution_count": 2,
   "metadata": {},
   "outputs": [
    {
     "name": "stdout",
     "output_type": "stream",
     "text": [
      "Populating the interactive namespace from numpy and matplotlib\n"
     ]
    },
    {
     "data": {
      "text/plain": [
       "<pyspark.sql.context.SQLContext at 0x7fda84a18208>"
      ]
     },
     "execution_count": 2,
     "metadata": {},
     "output_type": "execute_result"
    }
   ],
   "source": [
    "import os\n",
    "import sys\n",
    "\n",
    "from pyspark import SparkContext\n",
    "from pyspark.sql import SQLContext\n",
    "from pyspark.sql.types import Row, StructField, StructType, StringType, IntegerType\n",
    "%pylab inline\n",
    "# Just like using Spark requires having a SparkContext, using SQL requires an SQLContext\n",
    "sqlContext = SQLContext(sc)\n",
    "sqlContext"
   ]
  },
  {
   "cell_type": "markdown",
   "metadata": {},
   "source": [
    "## 0. Load data"
   ]
  },
  {
   "cell_type": "code",
   "execution_count": 3,
   "metadata": {},
   "outputs": [],
   "source": [
    "\n",
    "data = 'turkiye-student-evaluation_generic.csv'\n",
    "df = sqlContext.read.csv(data, header=True, inferSchema = True)\n"
   ]
  },
  {
   "cell_type": "code",
   "execution_count": 4,
   "metadata": {},
   "outputs": [
    {
     "data": {
      "text/html": [
       "<div>\n",
       "<style scoped>\n",
       "    .dataframe tbody tr th:only-of-type {\n",
       "        vertical-align: middle;\n",
       "    }\n",
       "\n",
       "    .dataframe tbody tr th {\n",
       "        vertical-align: top;\n",
       "    }\n",
       "\n",
       "    .dataframe thead th {\n",
       "        text-align: right;\n",
       "    }\n",
       "</style>\n",
       "<table border=\"1\" class=\"dataframe\">\n",
       "  <thead>\n",
       "    <tr style=\"text-align: right;\">\n",
       "      <th></th>\n",
       "      <th>instr</th>\n",
       "      <th>class</th>\n",
       "      <th>nb.repeat</th>\n",
       "      <th>attendance</th>\n",
       "      <th>difficulty</th>\n",
       "      <th>Q1</th>\n",
       "      <th>Q2</th>\n",
       "      <th>Q3</th>\n",
       "      <th>Q4</th>\n",
       "      <th>Q5</th>\n",
       "      <th>...</th>\n",
       "      <th>Q19</th>\n",
       "      <th>Q20</th>\n",
       "      <th>Q21</th>\n",
       "      <th>Q22</th>\n",
       "      <th>Q23</th>\n",
       "      <th>Q24</th>\n",
       "      <th>Q25</th>\n",
       "      <th>Q26</th>\n",
       "      <th>Q27</th>\n",
       "      <th>Q28</th>\n",
       "    </tr>\n",
       "  </thead>\n",
       "  <tbody>\n",
       "    <tr>\n",
       "      <td>0</td>\n",
       "      <td>1</td>\n",
       "      <td>2</td>\n",
       "      <td>1</td>\n",
       "      <td>0</td>\n",
       "      <td>4</td>\n",
       "      <td>3</td>\n",
       "      <td>3</td>\n",
       "      <td>3</td>\n",
       "      <td>3</td>\n",
       "      <td>3</td>\n",
       "      <td>...</td>\n",
       "      <td>3</td>\n",
       "      <td>3</td>\n",
       "      <td>3</td>\n",
       "      <td>3</td>\n",
       "      <td>3</td>\n",
       "      <td>3</td>\n",
       "      <td>3</td>\n",
       "      <td>3</td>\n",
       "      <td>3</td>\n",
       "      <td>3</td>\n",
       "    </tr>\n",
       "    <tr>\n",
       "      <td>1</td>\n",
       "      <td>1</td>\n",
       "      <td>2</td>\n",
       "      <td>1</td>\n",
       "      <td>1</td>\n",
       "      <td>3</td>\n",
       "      <td>3</td>\n",
       "      <td>3</td>\n",
       "      <td>3</td>\n",
       "      <td>3</td>\n",
       "      <td>3</td>\n",
       "      <td>...</td>\n",
       "      <td>3</td>\n",
       "      <td>3</td>\n",
       "      <td>3</td>\n",
       "      <td>3</td>\n",
       "      <td>3</td>\n",
       "      <td>3</td>\n",
       "      <td>3</td>\n",
       "      <td>3</td>\n",
       "      <td>3</td>\n",
       "      <td>3</td>\n",
       "    </tr>\n",
       "    <tr>\n",
       "      <td>2</td>\n",
       "      <td>1</td>\n",
       "      <td>2</td>\n",
       "      <td>1</td>\n",
       "      <td>2</td>\n",
       "      <td>4</td>\n",
       "      <td>5</td>\n",
       "      <td>5</td>\n",
       "      <td>5</td>\n",
       "      <td>5</td>\n",
       "      <td>5</td>\n",
       "      <td>...</td>\n",
       "      <td>5</td>\n",
       "      <td>5</td>\n",
       "      <td>5</td>\n",
       "      <td>5</td>\n",
       "      <td>5</td>\n",
       "      <td>5</td>\n",
       "      <td>5</td>\n",
       "      <td>5</td>\n",
       "      <td>5</td>\n",
       "      <td>5</td>\n",
       "    </tr>\n",
       "    <tr>\n",
       "      <td>3</td>\n",
       "      <td>1</td>\n",
       "      <td>2</td>\n",
       "      <td>1</td>\n",
       "      <td>1</td>\n",
       "      <td>3</td>\n",
       "      <td>3</td>\n",
       "      <td>3</td>\n",
       "      <td>3</td>\n",
       "      <td>3</td>\n",
       "      <td>3</td>\n",
       "      <td>...</td>\n",
       "      <td>3</td>\n",
       "      <td>3</td>\n",
       "      <td>3</td>\n",
       "      <td>3</td>\n",
       "      <td>3</td>\n",
       "      <td>3</td>\n",
       "      <td>3</td>\n",
       "      <td>3</td>\n",
       "      <td>3</td>\n",
       "      <td>3</td>\n",
       "    </tr>\n",
       "    <tr>\n",
       "      <td>4</td>\n",
       "      <td>1</td>\n",
       "      <td>2</td>\n",
       "      <td>1</td>\n",
       "      <td>0</td>\n",
       "      <td>1</td>\n",
       "      <td>1</td>\n",
       "      <td>1</td>\n",
       "      <td>1</td>\n",
       "      <td>1</td>\n",
       "      <td>1</td>\n",
       "      <td>...</td>\n",
       "      <td>1</td>\n",
       "      <td>1</td>\n",
       "      <td>1</td>\n",
       "      <td>1</td>\n",
       "      <td>1</td>\n",
       "      <td>1</td>\n",
       "      <td>1</td>\n",
       "      <td>1</td>\n",
       "      <td>1</td>\n",
       "      <td>1</td>\n",
       "    </tr>\n",
       "  </tbody>\n",
       "</table>\n",
       "<p>5 rows × 33 columns</p>\n",
       "</div>"
      ],
      "text/plain": [
       "   instr  class  nb.repeat  attendance  difficulty  Q1  Q2  Q3  Q4  Q5  ...  \\\n",
       "0      1      2          1           0           4   3   3   3   3   3  ...   \n",
       "1      1      2          1           1           3   3   3   3   3   3  ...   \n",
       "2      1      2          1           2           4   5   5   5   5   5  ...   \n",
       "3      1      2          1           1           3   3   3   3   3   3  ...   \n",
       "4      1      2          1           0           1   1   1   1   1   1  ...   \n",
       "\n",
       "   Q19  Q20  Q21  Q22  Q23  Q24  Q25  Q26  Q27  Q28  \n",
       "0    3    3    3    3    3    3    3    3    3    3  \n",
       "1    3    3    3    3    3    3    3    3    3    3  \n",
       "2    5    5    5    5    5    5    5    5    5    5  \n",
       "3    3    3    3    3    3    3    3    3    3    3  \n",
       "4    1    1    1    1    1    1    1    1    1    1  \n",
       "\n",
       "[5 rows x 33 columns]"
      ]
     },
     "execution_count": 4,
     "metadata": {},
     "output_type": "execute_result"
    }
   ],
   "source": [
    "df.toPandas().head()"
   ]
  },
  {
   "cell_type": "markdown",
   "metadata": {},
   "source": [
    "## 1. Data exploration"
   ]
  },
  {
   "cell_type": "code",
   "execution_count": 5,
   "metadata": {},
   "outputs": [],
   "source": [
    "df.registerTempTable('data')"
   ]
  },
  {
   "cell_type": "markdown",
   "metadata": {},
   "source": [
    "### Number of instructors"
   ]
  },
  {
   "cell_type": "code",
   "execution_count": 6,
   "metadata": {},
   "outputs": [
    {
     "name": "stdout",
     "output_type": "stream",
     "text": [
      "+-----+\n",
      "|instr|\n",
      "+-----+\n",
      "|    1|\n",
      "|    3|\n",
      "|    2|\n",
      "+-----+\n",
      "\n"
     ]
    }
   ],
   "source": [
    "sqlContext.sql(\"SELECT instr FROM data GROUP BY instr\").show()"
   ]
  },
  {
   "cell_type": "markdown",
   "metadata": {},
   "source": [
    "### Number of responses per instructor"
   ]
  },
  {
   "cell_type": "code",
   "execution_count": 7,
   "metadata": {},
   "outputs": [
    {
     "name": "stdout",
     "output_type": "stream",
     "text": [
      "+-----+--------+\n",
      "|instr|num_resp|\n",
      "+-----+--------+\n",
      "|    1|     775|\n",
      "|    3|    3601|\n",
      "|    2|    1444|\n",
      "+-----+--------+\n",
      "\n"
     ]
    }
   ],
   "source": [
    "sqlContext.sql(\"SELECT instr, COUNT(instr) AS num_resp FROM Data GROUP BY instr\").show()"
   ]
  },
  {
   "cell_type": "markdown",
   "metadata": {},
   "source": [
    "### Number of responses per class"
   ]
  },
  {
   "cell_type": "code",
   "execution_count": 8,
   "metadata": {},
   "outputs": [
    {
     "name": "stdout",
     "output_type": "stream",
     "text": [
      "+-----+--------+\n",
      "|class|num_resp|\n",
      "+-----+--------+\n",
      "|   12|      41|\n",
      "|    1|     303|\n",
      "|   13|     841|\n",
      "|    6|     558|\n",
      "|    3|     904|\n",
      "|    5|     656|\n",
      "|    9|     571|\n",
      "|    4|     187|\n",
      "|    8|     500|\n",
      "|    7|     187|\n",
      "|   10|     448|\n",
      "|   11|     484|\n",
      "|    2|     140|\n",
      "+-----+--------+\n",
      "\n"
     ]
    }
   ],
   "source": [
    "sqlContext.sql(\"SELECT class, COUNT(class) AS num_resp FROM Data GROUP BY class\").show()"
   ]
  },
  {
   "cell_type": "markdown",
   "metadata": {},
   "source": [
    "### Mean per question"
   ]
  },
  {
   "cell_type": "code",
   "execution_count": 9,
   "metadata": {},
   "outputs": [
    {
     "name": "stdout",
     "output_type": "stream",
     "text": [
      "+------------------+\n",
      "|      Mean_resp_Q1|\n",
      "+------------------+\n",
      "|2.9298969072164947|\n",
      "+------------------+\n",
      "\n",
      "+------------------+\n",
      "|      Mean_resp_Q2|\n",
      "+------------------+\n",
      "|3.0738831615120277|\n",
      "+------------------+\n",
      "\n",
      "+-----------------+\n",
      "|     Mean_resp_Q3|\n",
      "+-----------------+\n",
      "|3.178694158075601|\n",
      "+-----------------+\n",
      "\n",
      "+-----------------+\n",
      "|     Mean_resp_Q4|\n",
      "+-----------------+\n",
      "|3.082474226804124|\n",
      "+-----------------+\n",
      "\n",
      "+------------------+\n",
      "|      Mean_resp_Q5|\n",
      "+------------------+\n",
      "|3.1058419243986255|\n",
      "+------------------+\n",
      "\n",
      "+-----------------+\n",
      "|     Mean_resp_Q6|\n",
      "+-----------------+\n",
      "|3.107388316151203|\n",
      "+-----------------+\n",
      "\n",
      "+-----------------+\n",
      "|     Mean_resp_Q7|\n",
      "+-----------------+\n",
      "|3.066323024054983|\n",
      "+-----------------+\n",
      "\n",
      "+------------------+\n",
      "|      Mean_resp_Q8|\n",
      "+------------------+\n",
      "|3.0419243986254294|\n",
      "+------------------+\n",
      "\n",
      "+-----------------+\n",
      "|     Mean_resp_Q9|\n",
      "+-----------------+\n",
      "|3.165979381443299|\n",
      "+-----------------+\n",
      "\n",
      "+-----------------+\n",
      "|    Mean_resp_Q10|\n",
      "+-----------------+\n",
      "|3.090721649484536|\n",
      "+-----------------+\n",
      "\n",
      "+-----------------+\n",
      "|    Mean_resp_Q11|\n",
      "+-----------------+\n",
      "|3.183848797250859|\n",
      "+-----------------+\n",
      "\n",
      "+------------------+\n",
      "|     Mean_resp_Q12|\n",
      "+------------------+\n",
      "|3.0355670103092782|\n",
      "+------------------+\n",
      "\n",
      "+-----------------+\n",
      "|    Mean_resp_Q13|\n",
      "+-----------------+\n",
      "|3.242783505154639|\n",
      "+-----------------+\n",
      "\n",
      "+-----------------+\n",
      "|    Mean_resp_Q14|\n",
      "+-----------------+\n",
      "|3.290893470790378|\n",
      "+-----------------+\n",
      "\n",
      "+------------------+\n",
      "|     Mean_resp_Q15|\n",
      "+------------------+\n",
      "|3.2872852233676975|\n",
      "+------------------+\n",
      "\n",
      "+------------------+\n",
      "|     Mean_resp_Q16|\n",
      "+------------------+\n",
      "|3.1695876288659792|\n",
      "+------------------+\n",
      "\n",
      "+------------------+\n",
      "|     Mean_resp_Q17|\n",
      "+------------------+\n",
      "|3.3984536082474226|\n",
      "+------------------+\n",
      "\n",
      "+-----------------+\n",
      "|    Mean_resp_Q18|\n",
      "+-----------------+\n",
      "|3.222508591065292|\n",
      "+-----------------+\n",
      "\n",
      "+-----------------+\n",
      "|    Mean_resp_Q19|\n",
      "+-----------------+\n",
      "|3.261683848797251|\n",
      "+-----------------+\n",
      "\n",
      "+------------------+\n",
      "|     Mean_resp_Q20|\n",
      "+------------------+\n",
      "|3.2853951890034363|\n",
      "+------------------+\n",
      "\n",
      "+------------------+\n",
      "|     Mean_resp_Q21|\n",
      "+------------------+\n",
      "|3.3073883161512025|\n",
      "+------------------+\n",
      "\n",
      "+------------------+\n",
      "|     Mean_resp_Q22|\n",
      "+------------------+\n",
      "|3.3175257731958765|\n",
      "+------------------+\n",
      "\n",
      "+------------------+\n",
      "|     Mean_resp_Q23|\n",
      "+------------------+\n",
      "|3.2018900343642613|\n",
      "+------------------+\n",
      "\n",
      "+------------------+\n",
      "|     Mean_resp_Q24|\n",
      "+------------------+\n",
      "|3.1668384879725084|\n",
      "+------------------+\n",
      "\n",
      "+------------------+\n",
      "|     Mean_resp_Q25|\n",
      "+------------------+\n",
      "|3.3125429553264607|\n",
      "+------------------+\n",
      "\n",
      "+------------------+\n",
      "|     Mean_resp_Q26|\n",
      "+------------------+\n",
      "|3.2221649484536083|\n",
      "+------------------+\n",
      "\n",
      "+------------------+\n",
      "|     Mean_resp_Q27|\n",
      "+------------------+\n",
      "|3.1548109965635738|\n",
      "+------------------+\n",
      "\n",
      "+------------------+\n",
      "|     Mean_resp_Q28|\n",
      "+------------------+\n",
      "|3.3080756013745702|\n",
      "+------------------+\n",
      "\n"
     ]
    }
   ],
   "source": [
    "for i in range (1,29):\n",
    "    query = \"SELECT mean(Q{}) AS Mean_resp_Q{} FROM Data\".format(i,i)\n",
    "    sqlContext.sql(query).show()"
   ]
  },
  {
   "cell_type": "code",
   "execution_count": 10,
   "metadata": {},
   "outputs": [
    {
     "name": "stdout",
     "output_type": "stream",
     "text": [
      "+--------+\n",
      "|num_resp|\n",
      "+--------+\n",
      "|      41|\n",
      "|     303|\n",
      "|     841|\n",
      "|     558|\n",
      "|     904|\n",
      "|     656|\n",
      "|     571|\n",
      "|     187|\n",
      "|     500|\n",
      "|     187|\n",
      "|     448|\n",
      "|     484|\n",
      "|     140|\n",
      "+--------+\n",
      "\n"
     ]
    }
   ],
   "source": [
    "sqlContext.sql(\"SELECT COUNT(class) AS num_resp FROM Data GROUP BY class\").show()"
   ]
  },
  {
   "cell_type": "markdown",
   "metadata": {},
   "source": [
    "## 2. Dimensionality reduction"
   ]
  },
  {
   "cell_type": "code",
   "execution_count": 11,
   "metadata": {},
   "outputs": [],
   "source": [
    "from pyspark.ml.feature import VectorAssembler\n",
    "from pyspark.ml.linalg import Vectors\n",
    "assembler = VectorAssembler(\n",
    "             inputCols = ['Q{}'.format(i) for i in range (1,29)],\n",
    "             outputCol = 'features') \n",
    "output = assembler.transform(df)"
   ]
  },
  {
   "cell_type": "code",
   "execution_count": 12,
   "metadata": {},
   "outputs": [
    {
     "name": "stdout",
     "output_type": "stream",
     "text": [
      "handleInvalid: How to handle invalid data (NULL and NaN values). Options are 'skip' (filter out rows with invalid data), 'error' (throw an error), or 'keep' (return relevant number of NaN in the output). Column lengths are taken from the size of ML Attribute Group, which can be set using `VectorSizeHint` in a pipeline before `VectorAssembler`. Column lengths can also be inferred from first rows of the data since it is safe to do so but only in case of 'error' or 'skip'). (default: error)\n",
      "inputCols: input column names. (current: ['Q1', 'Q2', 'Q3', 'Q4', 'Q5', 'Q6', 'Q7', 'Q8', 'Q9', 'Q10', 'Q11', 'Q12', 'Q13', 'Q14', 'Q15', 'Q16', 'Q17', 'Q18', 'Q19', 'Q20', 'Q21', 'Q22', 'Q23', 'Q24', 'Q25', 'Q26', 'Q27', 'Q28'])\n",
      "outputCol: output column name. (default: VectorAssembler_0c958ddcbb1c__output, current: features)\n"
     ]
    }
   ],
   "source": [
    "print(assembler.explainParams())"
   ]
  },
  {
   "cell_type": "code",
   "execution_count": 13,
   "metadata": {},
   "outputs": [],
   "source": [
    "#assembler.set('handleInvalid', df)"
   ]
  },
  {
   "cell_type": "code",
   "execution_count": 14,
   "metadata": {},
   "outputs": [
    {
     "data": {
      "text/html": [
       "<div>\n",
       "<style scoped>\n",
       "    .dataframe tbody tr th:only-of-type {\n",
       "        vertical-align: middle;\n",
       "    }\n",
       "\n",
       "    .dataframe tbody tr th {\n",
       "        vertical-align: top;\n",
       "    }\n",
       "\n",
       "    .dataframe thead th {\n",
       "        text-align: right;\n",
       "    }\n",
       "</style>\n",
       "<table border=\"1\" class=\"dataframe\">\n",
       "  <thead>\n",
       "    <tr style=\"text-align: right;\">\n",
       "      <th></th>\n",
       "      <th>pcaFeatures</th>\n",
       "    </tr>\n",
       "  </thead>\n",
       "  <tbody>\n",
       "    <tr>\n",
       "      <td>0</td>\n",
       "      <td>[-15.870455768991269, -0.17700592299922246, -0...</td>\n",
       "    </tr>\n",
       "    <tr>\n",
       "      <td>1</td>\n",
       "      <td>[-15.870455768991269, -0.17700592299922246, -0...</td>\n",
       "    </tr>\n",
       "    <tr>\n",
       "      <td>2</td>\n",
       "      <td>[-26.45075961498545, -0.2950098716653624, -0.1...</td>\n",
       "    </tr>\n",
       "    <tr>\n",
       "      <td>3</td>\n",
       "      <td>[-15.870455768991269, -0.17700592299922246, -0...</td>\n",
       "    </tr>\n",
       "    <tr>\n",
       "      <td>4</td>\n",
       "      <td>[-5.29015192299709, -0.059001974333073665, -0....</td>\n",
       "    </tr>\n",
       "    <tr>\n",
       "      <td>...</td>\n",
       "      <td>...</td>\n",
       "    </tr>\n",
       "    <tr>\n",
       "      <td>5815</td>\n",
       "      <td>[-5.29015192299709, -0.059001974333073665, -0....</td>\n",
       "    </tr>\n",
       "    <tr>\n",
       "      <td>5816</td>\n",
       "      <td>[-24.210512158436934, 1.8804297956317453, -0.0...</td>\n",
       "    </tr>\n",
       "    <tr>\n",
       "      <td>5817</td>\n",
       "      <td>[-26.45075961498545, -0.2950098716653624, -0.1...</td>\n",
       "    </tr>\n",
       "    <tr>\n",
       "      <td>5818</td>\n",
       "      <td>[-5.29015192299709, -0.059001974333073665, -0....</td>\n",
       "    </tr>\n",
       "    <tr>\n",
       "      <td>5819</td>\n",
       "      <td>[-5.29015192299709, -0.059001974333073665, -0....</td>\n",
       "    </tr>\n",
       "  </tbody>\n",
       "</table>\n",
       "<p>5820 rows × 1 columns</p>\n",
       "</div>"
      ],
      "text/plain": [
       "                                            pcaFeatures\n",
       "0     [-15.870455768991269, -0.17700592299922246, -0...\n",
       "1     [-15.870455768991269, -0.17700592299922246, -0...\n",
       "2     [-26.45075961498545, -0.2950098716653624, -0.1...\n",
       "3     [-15.870455768991269, -0.17700592299922246, -0...\n",
       "4     [-5.29015192299709, -0.059001974333073665, -0....\n",
       "...                                                 ...\n",
       "5815  [-5.29015192299709, -0.059001974333073665, -0....\n",
       "5816  [-24.210512158436934, 1.8804297956317453, -0.0...\n",
       "5817  [-26.45075961498545, -0.2950098716653624, -0.1...\n",
       "5818  [-5.29015192299709, -0.059001974333073665, -0....\n",
       "5819  [-5.29015192299709, -0.059001974333073665, -0....\n",
       "\n",
       "[5820 rows x 1 columns]"
      ]
     },
     "execution_count": 14,
     "metadata": {},
     "output_type": "execute_result"
    }
   ],
   "source": [
    "from pyspark.ml.feature import PCA\n",
    "from pyspark.ml.linalg import Vectors\n",
    "\n",
    "\n",
    "pca = PCA(k=3, inputCol=\"features\", outputCol=\"pcaFeatures\")\n",
    "model = pca.fit(output)\n",
    "result = model.transform(output).select(\"pcaFeatures\")\n",
    "result.toPandas()"
   ]
  },
  {
   "cell_type": "code",
   "execution_count": 15,
   "metadata": {},
   "outputs": [
    {
     "data": {
      "text/plain": [
       "PCA_01b9840ceb22"
      ]
     },
     "execution_count": 15,
     "metadata": {},
     "output_type": "execute_result"
    }
   ],
   "source": [
    "pca.setK(4)"
   ]
  },
  {
   "cell_type": "code",
   "execution_count": 16,
   "metadata": {},
   "outputs": [
    {
     "ename": "AttributeError",
     "evalue": "'PCA' object has no attribute 'getParams'",
     "output_type": "error",
     "traceback": [
      "\u001b[0;31m---------------------------------------------------------------------------\u001b[0m",
      "\u001b[0;31mAttributeError\u001b[0m                            Traceback (most recent call last)",
      "\u001b[0;32m<ipython-input-16-684593a25352>\u001b[0m in \u001b[0;36m<module>\u001b[0;34m\u001b[0m\n\u001b[0;32m----> 1\u001b[0;31m \u001b[0mpca\u001b[0m\u001b[0;34m.\u001b[0m\u001b[0mset\u001b[0m\u001b[0;34m(\u001b[0m\u001b[0mpca\u001b[0m\u001b[0;34m.\u001b[0m\u001b[0mgetParams\u001b[0m\u001b[0;34m(\u001b[0m\u001b[0;34m'k'\u001b[0m\u001b[0;34m)\u001b[0m\u001b[0;34m,\u001b[0m\u001b[0;36m3\u001b[0m\u001b[0;34m)\u001b[0m\u001b[0;34m\u001b[0m\u001b[0;34m\u001b[0m\u001b[0m\n\u001b[0m",
      "\u001b[0;31mAttributeError\u001b[0m: 'PCA' object has no attribute 'getParams'"
     ]
    }
   ],
   "source": [
    "pca.set(pca.getParams('k'),3) "
   ]
  },
  {
   "cell_type": "markdown",
   "metadata": {},
   "source": [
    "## 3. Classification"
   ]
  },
  {
   "cell_type": "code",
   "execution_count": null,
   "metadata": {},
   "outputs": [],
   "source": []
  }
 ],
 "metadata": {
  "kernelspec": {
   "display_name": "Python 3",
   "language": "python",
   "name": "python3"
  },
  "language_info": {
   "codemirror_mode": {
    "name": "ipython",
    "version": 3
   },
   "file_extension": ".py",
   "mimetype": "text/x-python",
   "name": "python",
   "nbconvert_exporter": "python",
   "pygments_lexer": "ipython3",
   "version": "3.7.3"
  }
 },
 "nbformat": 4,
 "nbformat_minor": 2
}
