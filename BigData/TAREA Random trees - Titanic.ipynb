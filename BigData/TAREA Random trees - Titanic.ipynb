{
 "cells": [
  {
   "cell_type": "markdown",
   "metadata": {},
   "source": [
    "## Titanic Assigment - Alicia Avis Bodas"
   ]
  },
  {
   "cell_type": "code",
   "execution_count": 2,
   "metadata": {},
   "outputs": [],
   "source": [
    "import findspark\n",
    "findspark.init()\n",
    "\n",
    "from pyspark import SparkContext\n",
    "sc = SparkContext(master = \"local[4]\")\n",
    "from pyspark.sql import SQLContext\n",
    "\n",
    "sqlContext = SQLContext(sc)\n",
    "\n",
    "from pyspark.ml.linalg import Vectors\n",
    "from pyspark.ml.feature import VectorAssembler\n",
    "from pyspark.ml.feature import IndexToString, StringIndexer\n"
   ]
  },
  {
   "cell_type": "code",
   "execution_count": 3,
   "metadata": {},
   "outputs": [],
   "source": [
    "# Load training data\n",
    "data = 'train.csv'\n",
    "training = sqlContext.read.csv(data, header=True, inferSchema = True)\n",
    "#training.toPandas().head()\n",
    "\n",
    "# Load test data\n",
    "datatest = 'test.csv'\n",
    "testing = sqlContext.read.csv(datatest, header=True, inferSchema = True)\n",
    "#testing.toPandas().head()"
   ]
  },
  {
   "cell_type": "markdown",
   "metadata": {},
   "source": [
    "**Registramos la tabla con registerTempTable()**:\n",
    "\n",
    "The reason to use the registerTempTable() method for a DataFrame, is so that in addition to being able to use the Spark-provided methods of a DataFrame, you can also issue SQL queries via the sqlContext.sql( sqlQuery ) method, that use that DataFrame as an SQL table."
   ]
  },
  {
   "cell_type": "code",
   "execution_count": 8,
   "metadata": {},
   "outputs": [],
   "source": [
    "training.registerTempTable(\"train\")\n",
    "testing.registerTempTable(\"test\")"
   ]
  },
  {
   "cell_type": "markdown",
   "metadata": {},
   "source": [
    " "
   ]
  },
  {
   "cell_type": "markdown",
   "metadata": {},
   "source": [
    "Con **StringIndexer** convertimos una string en un integer. En este caso, convertimos el valor de Sex en un código numérico bajo el nombre de IndexedSex.\n",
    "\n",
    "En **handleInvalid** le decimos que tiene que hacer cuando encuentre un registro no válido. En este caso ponemos 'skip', que significa que cuando encuentre uno de estos registros lo \"deje ahí y pase de ello\".\n",
    "\n",
    "\n"
   ]
  },
  {
   "cell_type": "code",
   "execution_count": 13,
   "metadata": {},
   "outputs": [],
   "source": [
    "sexindexer = StringIndexer(inputCol=\"Sex\", outputCol=\"IndexedSex\", handleInvalid= 'skip')\n",
    "model = indexer.fit(training).transform(training) \n",
    "#sexindexer.toPandas()"
   ]
  },
  {
   "cell_type": "markdown",
   "metadata": {},
   "source": [
    "Meto en una variable todas las características que voy a tener en cuenta para entrenar el modelo, todas ellas numéricas."
   ]
  },
  {
   "cell_type": "code",
   "execution_count": 10,
   "metadata": {},
   "outputs": [],
   "source": [
    "feat_num_col = ['Pclass', 'Age', 'IndexedSex','SibSp', 'Parch', 'Fare']"
   ]
  },
  {
   "cell_type": "markdown",
   "metadata": {},
   "source": [
    "Transformo mediante **VectorAssembler** todas las características en un vector. Si no pongo handleInvalid= 'skip' no me deja hacer luego el transform."
   ]
  },
  {
   "cell_type": "code",
   "execution_count": 15,
   "metadata": {},
   "outputs": [],
   "source": [
    "assembler = VectorAssembler(inputCols= feat_num_col, outputCol=\"features\", handleInvalid= 'skip')\n"
   ]
  },
  {
   "cell_type": "markdown",
   "metadata": {},
   "source": [
    "Con el método **RandomForestClassifier**, establecemos en *labelCol* cual es la etiqueta que me va a permitir entrenar el modelo, en este caso es *survived*. \n"
   ]
  },
  {
   "cell_type": "code",
   "execution_count": 25,
   "metadata": {},
   "outputs": [],
   "source": [
    "rf = RandomForestClassifier(labelCol=\"Survived\", \n",
    "                            featuresCol=\"features\", \n",
    "                            predictionCol='prediction')"
   ]
  },
  {
   "cell_type": "code",
   "execution_count": 16,
   "metadata": {},
   "outputs": [],
   "source": [
    "from pyspark.ml import Pipeline\n",
    "from pyspark.ml.classification import RandomForestClassifier"
   ]
  },
  {
   "cell_type": "markdown",
   "metadata": {},
   "source": [
    "Genero la **pipeline**, que es una transformación compuesta por otras transformaciones. También tiene fit y transform. Hago el fit con el trian y el transform con el test."
   ]
  },
  {
   "cell_type": "code",
   "execution_count": 26,
   "metadata": {},
   "outputs": [],
   "source": [
    "pipeline = Pipeline(stages=[sexindexer, assembler, rf])"
   ]
  },
  {
   "cell_type": "code",
   "execution_count": 27,
   "metadata": {},
   "outputs": [],
   "source": [
    "model = pipeline.fit(training)"
   ]
  },
  {
   "cell_type": "code",
   "execution_count": 28,
   "metadata": {},
   "outputs": [],
   "source": [
    "output = model.transform(testing)"
   ]
  },
  {
   "cell_type": "markdown",
   "metadata": {},
   "source": [
    "Obtengo los datos de los pasajeros guardados para hacer el test, y me dice, según la predición, qué pasajero sobrevivirá."
   ]
  },
  {
   "cell_type": "code",
   "execution_count": 37,
   "metadata": {},
   "outputs": [],
   "source": [
    "#display(output.toPandas())"
   ]
  },
  {
   "cell_type": "code",
   "execution_count": 36,
   "metadata": {},
   "outputs": [
    {
     "name": "stdout",
     "output_type": "stream",
     "text": [
      "+-----------+----------+\n",
      "|PassengerId|prediction|\n",
      "+-----------+----------+\n",
      "|892        |0.0       |\n",
      "|893        |0.0       |\n",
      "|894        |0.0       |\n",
      "|895        |0.0       |\n",
      "|896        |1.0       |\n",
      "|897        |0.0       |\n",
      "|898        |1.0       |\n",
      "|899        |0.0       |\n",
      "|900        |1.0       |\n",
      "|901        |0.0       |\n",
      "|903        |0.0       |\n",
      "|904        |1.0       |\n",
      "|905        |0.0       |\n",
      "|906        |1.0       |\n",
      "|907        |1.0       |\n",
      "|908        |0.0       |\n",
      "|909        |0.0       |\n",
      "|910        |1.0       |\n",
      "|911        |0.0       |\n",
      "|912        |0.0       |\n",
      "+-----------+----------+\n",
      "only showing top 20 rows\n",
      "\n"
     ]
    }
   ],
   "source": [
    "output.select(\"PassengerId\", \"prediction\").show(truncate=False)"
   ]
  }
 ],
 "metadata": {
  "kernelspec": {
   "display_name": "Python 3",
   "language": "python",
   "name": "python3"
  },
  "language_info": {
   "codemirror_mode": {
    "name": "ipython",
    "version": 3
   },
   "file_extension": ".py",
   "mimetype": "text/x-python",
   "name": "python",
   "nbconvert_exporter": "python",
   "pygments_lexer": "ipython3",
   "version": "3.7.3"
  }
 },
 "nbformat": 4,
 "nbformat_minor": 2
}
